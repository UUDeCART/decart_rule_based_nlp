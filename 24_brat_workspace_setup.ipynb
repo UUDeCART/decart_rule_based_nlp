{
 "cells": [
  {
   "cell_type": "markdown",
   "metadata": {},
   "source": [
    "## Workspace setup\n",
    "\n",
    "We are using the [brat annotation tool](http://brat.nlplab.org/) to practice setting up a manual annotation project. Brat is a browser-based tool that requires text files to be placed in a folder within a brat directory. To avoid annotation conflict with other students, you need to create your workspace within the BRAT directory. \n",
    "\n",
    "This notebook will help you set up your brat project for the next excercise.\n",
    "\n",
    "To avoid any unintentional file manipulations, please set variable \"usr\" to your github username. That will be the name of your workspace."
   ]
  },
  {
   "cell_type": "markdown",
   "metadata": {},
   "source": [
    "Let's copy an unannotated Brat project to your directory.\n",
    "\n",
    "**Note: This notebook only works on https://decart.jupyter.med.utah.edu**"
   ]
  },
  {
   "cell_type": "code",
   "execution_count": 1,
   "metadata": {},
   "outputs": [],
   "source": [
    "!cp -r ~/BRAT/unannotated ~/BRAT/$USER"
   ]
  },
  {
   "cell_type": "markdown",
   "metadata": {},
   "source": [
    "Server: https://brat.jupyter.med.utah.edu/. \n",
    "\n",
    "Brat login password:\n",
    "\n",
    "U_0f_U-Bi0inf0rmatics"
   ]
  },
  {
   "cell_type": "markdown",
   "metadata": {},
   "source": [
    "\n",
    "\n",
    "### There are many annotation tools you can use - they all have pros and cons\n",
    "![image.png](./images/Slide19.png)"
   ]
  },
  {
   "cell_type": "markdown",
   "metadata": {},
   "source": [
    "## Customize your own schema (optional)\n",
    "If you want to customize your own annoation schema, run the following cell. It will make a copy of annotation.conf and visual.conf to your directory, so that you can edit them without affecting others."
   ]
  },
  {
   "cell_type": "code",
   "execution_count": 2,
   "metadata": {},
   "outputs": [],
   "source": [
    "!cp ~/BRAT/annotation.conf ~/BRAT/$USER/annotation.conf\n",
    "!cp ~/BRAT/visual.conf ~/BRAT/$USER/visual.conf"
   ]
  },
  {
   "cell_type": "markdown",
   "metadata": {},
   "source": [
    "The following cell will generate hyperlinks to edit these configuration files:\n",
    "If you are not using https://decart.jupyter.med.utah.edu to access this notebook, the URLs will be different."
   ]
  },
  {
   "cell_type": "code",
   "execution_count": 21,
   "metadata": {},
   "outputs": [
    {
     "data": {
      "text/html": [
       "Now you can edit these two configuration files: <br/><a target='blank' href='https://decart.jupyter.med.utah.edu/user/jianlins/edit/BRAT/jianlins/annotation.conf'>annotation.conf</a><br/><a target='blank' href='https://decart.jupyter.med.utah.edu/user/jianlins/edit/BRAT/jianlins/visual.conf'>visual.conf</a>"
      ],
      "text/plain": [
       "<IPython.core.display.HTML object>"
      ]
     },
     "metadata": {},
     "output_type": "display_data"
    }
   ],
   "source": [
    "from IPython.display import display, HTML\n",
    "import getpass\n",
    "usr=getpass.getuser()\n",
    "html=\"Now you can edit these two configuration files: <br/><a target='blank' href='https://decart.jupyter.med.utah.edu/user/{usr}/edit/BRAT/{usr}/annotation.conf'>annotation.conf</a><br/><a target='blank' href='https://decart.jupyter.med.utah.edu/user/{usr}/edit/BRAT/{usr}/visual.conf'>visual.conf</a>\"\n",
    "html=html.format_map({'usr':usr})\n",
    "display(HTML(html))"
   ]
  },
  {
   "cell_type": "markdown",
   "metadata": {},
   "source": [
    "<br/><br/>This material presented as part of the DeCART Data Science for the Health Science Summer Program at the University of Utah in 2019.<br/>\n",
    "Presenters : Dr. Wendy Chapman, Kelly Peterson, Alec Chapman, Jianlin Shi <br> Acknowledgement: Many thanks to Olga Patterson because part of the materials are adopted from his previous work."
   ]
  },
  {
   "cell_type": "code",
   "execution_count": null,
   "metadata": {},
   "outputs": [],
   "source": []
  }
 ],
 "metadata": {
  "kernelspec": {
   "display_name": "Python 3",
   "language": "python",
   "name": "python3"
  },
  "language_info": {
   "codemirror_mode": {
    "name": "ipython",
    "version": 3
   },
   "file_extension": ".py",
   "mimetype": "text/x-python",
   "name": "python",
   "nbconvert_exporter": "python",
   "pygments_lexer": "ipython3",
   "version": "3.7.3"
  },
  "toc": {
   "base_numbering": 1,
   "nav_menu": {},
   "number_sections": true,
   "sideBar": true,
   "skip_h1_title": false,
   "title_cell": "Table of Contents",
   "title_sidebar": "Contents",
   "toc_cell": false,
   "toc_position": {},
   "toc_section_display": true,
   "toc_window_display": false
  }
 },
 "nbformat": 4,
 "nbformat_minor": 2
}
