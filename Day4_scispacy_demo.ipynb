{
 "cells": [
  {
   "cell_type": "markdown",
   "metadata": {},
   "source": [
    "# Goal: Explore other great models, components and pipelines from other sources like 'scispacy' which comes from the Allen Institute for Artificial Intelligence (AllenAI) "
   ]
  },
  {
   "cell_type": "code",
   "execution_count": 1,
   "metadata": {},
   "outputs": [],
   "source": [
    "import spacy\n",
    "\n",
    "from spacy import displacy\n",
    "\n",
    "from scispacy.abbreviation import AbbreviationDetector"
   ]
  },
  {
   "cell_type": "markdown",
   "metadata": {},
   "source": [
    "# The scispacy models and included components include many features which are useful for biomedical text and potentially even clinical text since it provides an improved tokenizer for medical tokens and improved sentence boundary detection as trained from large amounts of biomedical literature.\n",
    "## Today we will look at the AbbreviationDetector"
   ]
  },
  {
   "cell_type": "code",
   "execution_count": 2,
   "metadata": {},
   "outputs": [],
   "source": [
    "text = \"Spinal and bulbar muscular atrophy (SBMA) is an \\\n",
    "           inherited motor neuron disease caused by the expansion \\\n",
    "           of a polyglutamine tract within the androgen receptor (AR). \\\n",
    "           SBMA can be caused by this easily.\""
   ]
  },
  {
   "cell_type": "code",
   "execution_count": 3,
   "metadata": {},
   "outputs": [],
   "source": [
    "default_nlp = spacy.load(\"en_core_sci_sm\")"
   ]
  },
  {
   "cell_type": "code",
   "execution_count": 4,
   "metadata": {},
   "outputs": [
    {
     "name": "stdout",
     "output_type": "stream",
     "text": [
      "('tagger', <spacy.pipeline.pipes.Tagger object at 0x7fd59bc60c50>)\n",
      "('parser', <spacy.pipeline.pipes.DependencyParser object at 0x7fd59bb36048>)\n",
      "('ner', <spacy.pipeline.pipes.EntityRecognizer object at 0x7fd59bb360a8>)\n"
     ]
    }
   ],
   "source": [
    "for pipe in default_nlp.pipeline:\n",
    "    print(pipe)"
   ]
  },
  {
   "cell_type": "markdown",
   "metadata": {},
   "source": [
    "# Scispacy and other components and models than extend beyond the base spacy functionality use a special variable inside Documents, Tokens, and Spans called the extension variable.  This is a class member components can use to register names and variables of new knowledge or linguistic information that it adds.  This name of this member variable is the literal underscore character (_)"
   ]
  },
  {
   "cell_type": "code",
   "execution_count": 5,
   "metadata": {},
   "outputs": [],
   "source": [
    "def count_document_extensions(spacy_doc):\n",
    "    document_extensions = spacy_doc._._extensions.keys()\n",
    "    print(document_extensions)\n",
    "    return len(document_extensions)"
   ]
  },
  {
   "cell_type": "code",
   "execution_count": 6,
   "metadata": {},
   "outputs": [
    {
     "name": "stdout",
     "output_type": "stream",
     "text": [
      "dict_keys([])\n",
      "Total tokens with extension values : 0\n"
     ]
    }
   ],
   "source": [
    "doc = default_nlp(text)\n",
    "\n",
    "default_pipeline_extension_count = count_document_extensions(doc)\n",
    "    \n",
    "print('Total tokens with extension values : {}'.format(default_pipeline_extension_count))"
   ]
  },
  {
   "cell_type": "markdown",
   "metadata": {},
   "source": [
    "# Add the Abbreviation Detector to our pipeline and we can get extended information from its processing"
   ]
  },
  {
   "cell_type": "code",
   "execution_count": 7,
   "metadata": {},
   "outputs": [],
   "source": [
    "abbreviation_nlp = spacy.load(\"en_core_sci_sm\")\n",
    "\n",
    "# Add the abbreviation pipe to the spacy pipeline.\n",
    "abbreviation_pipe = AbbreviationDetector(abbreviation_nlp)\n",
    "abbreviation_nlp.add_pipe(abbreviation_pipe)"
   ]
  },
  {
   "cell_type": "code",
   "execution_count": 8,
   "metadata": {},
   "outputs": [
    {
     "name": "stdout",
     "output_type": "stream",
     "text": [
      "('tagger', <spacy.pipeline.pipes.Tagger object at 0x7fd59afbec18>)\n",
      "('parser', <spacy.pipeline.pipes.DependencyParser object at 0x7fd59ae9e288>)\n",
      "('ner', <spacy.pipeline.pipes.EntityRecognizer object at 0x7fd59ae9e2e8>)\n",
      "('AbbreviationDetector', <scispacy.abbreviation.AbbreviationDetector object at 0x7fd59af4d0f0>)\n"
     ]
    }
   ],
   "source": [
    "# let's look at the pipeline components\n",
    "for pipe in abbreviation_nlp.pipeline:\n",
    "    print(pipe)"
   ]
  },
  {
   "cell_type": "code",
   "execution_count": 9,
   "metadata": {},
   "outputs": [],
   "source": [
    "doc2 = abbreviation_nlp(text)"
   ]
  },
  {
   "cell_type": "code",
   "execution_count": 10,
   "metadata": {},
   "outputs": [
    {
     "name": "stdout",
     "output_type": "stream",
     "text": [
      "dict_keys(['abbreviations'])\n",
      "Total tokens with extension values : 1\n"
     ]
    }
   ],
   "source": [
    "abbreviation_pipeline_extension_count = count_document_extensions(doc2)\n",
    "    \n",
    "print('Total tokens with extension values : {}'.format(abbreviation_pipeline_extension_count))"
   ]
  },
  {
   "cell_type": "markdown",
   "metadata": {},
   "source": [
    "# Let's look at the abbreviations"
   ]
  },
  {
   "cell_type": "code",
   "execution_count": 11,
   "metadata": {},
   "outputs": [
    {
     "name": "stdout",
     "output_type": "stream",
     "text": [
      "Abbreviation \t Definition\n",
      "SBMA \t (6, 7) Spinal and bulbar muscular atrophy\n",
      "SBMA \t (33, 34) Spinal and bulbar muscular atrophy\n",
      "AR \t (29, 30) androgen receptor\n"
     ]
    }
   ],
   "source": [
    "print(\"Abbreviation\", \"\\t\", \"Definition\")\n",
    "for abrv in doc2._.abbreviations:\n",
    "    print(f\"{abrv} \\t ({abrv.start}, {abrv.end}) {abrv._.long_form}\")"
   ]
  },
  {
   "cell_type": "code",
   "execution_count": 12,
   "metadata": {},
   "outputs": [
    {
     "name": "stdout",
     "output_type": "stream",
     "text": [
      "dict_keys(['abbreviations'])\n"
     ]
    }
   ],
   "source": [
    "print(doc2._._extensions.keys())"
   ]
  },
  {
   "cell_type": "code",
   "execution_count": null,
   "metadata": {},
   "outputs": [],
   "source": []
  },
  {
   "cell_type": "code",
   "execution_count": null,
   "metadata": {},
   "outputs": [],
   "source": []
  },
  {
   "cell_type": "code",
   "execution_count": null,
   "metadata": {},
   "outputs": [],
   "source": []
  },
  {
   "cell_type": "code",
   "execution_count": null,
   "metadata": {},
   "outputs": [],
   "source": []
  },
  {
   "cell_type": "code",
   "execution_count": null,
   "metadata": {},
   "outputs": [],
   "source": []
  },
  {
   "cell_type": "code",
   "execution_count": null,
   "metadata": {},
   "outputs": [],
   "source": []
  }
 ],
 "metadata": {
  "kernelspec": {
   "display_name": "Python [conda env:scispacy]",
   "language": "python",
   "name": "conda-env-scispacy-py"
  },
  "language_info": {
   "codemirror_mode": {
    "name": "ipython",
    "version": 3
   },
   "file_extension": ".py",
   "mimetype": "text/x-python",
   "name": "python",
   "nbconvert_exporter": "python",
   "pygments_lexer": "ipython3",
   "version": "3.6.7"
  }
 },
 "nbformat": 4,
 "nbformat_minor": 2
}
