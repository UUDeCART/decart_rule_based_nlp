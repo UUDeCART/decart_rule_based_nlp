{
 "cells": [
  {
   "cell_type": "markdown",
   "metadata": {},
   "source": [
    "# The purpose of this notebook is to demonstrate the value of visualization methods that exist in spacy for understanding data and debugging."
   ]
  },
  {
   "cell_type": "code",
   "execution_count": null,
   "metadata": {},
   "outputs": [],
   "source": [
    "import spacy\n",
    "from spacy import displacy"
   ]
  },
  {
   "cell_type": "code",
   "execution_count": null,
   "metadata": {},
   "outputs": [],
   "source": [
    "nlp = spacy.load(\"en_core_web_sm\")"
   ]
  },
  {
   "cell_type": "code",
   "execution_count": null,
   "metadata": {},
   "outputs": [],
   "source": [
    "for pipe in nlp.pipeline:\n",
    "    print(pipe)"
   ]
  },
  {
   "cell_type": "code",
   "execution_count": null,
   "metadata": {},
   "outputs": [],
   "source": [
    "entity_doc = nlp('The days of sub-thousand dollar MacBooks are over. The cost of entry to be a MacBook owner is now $1,099.')"
   ]
  },
  {
   "cell_type": "markdown",
   "metadata": {},
   "source": [
    "# There are some simple ways that we can inspect the results of spacy processing.  This includes looking at Named Entity Recognition results"
   ]
  },
  {
   "cell_type": "code",
   "execution_count": null,
   "metadata": {},
   "outputs": [],
   "source": [
    "print('Text Start End Label')\n",
    "for ent in entity_doc.ents:\n",
    "    print('{0} {1} {2} {3}'.format(ent.text, ent.start_char, ent.end_char, ent.label_))"
   ]
  },
  {
   "cell_type": "markdown",
   "metadata": {},
   "source": [
    "# While this is useful, it's not the easiest way to visualize data.  It would be better if we could see these entities and values \"in line\" in the text as an overlay over it.  \n",
    "## spacy developers have created a package called 'displaCy' to display some spacy data.  \n",
    "## Let's look at named entities again and see the visualization"
   ]
  },
  {
   "cell_type": "code",
   "execution_count": null,
   "metadata": {},
   "outputs": [],
   "source": [
    "displacy.render(entity_doc, style='ent', jupyter=True)"
   ]
  },
  {
   "cell_type": "markdown",
   "metadata": {},
   "source": [
    "# Now try this on your own.  Enter some sentences down below and see which entities the default spacy model identifies.  You will also need to update the render() call to your document to test this..."
   ]
  },
  {
   "cell_type": "code",
   "execution_count": null,
   "metadata": {},
   "outputs": [],
   "source": [
    "my_text = 'CHANGE ME!!!!'\n",
    "\n",
    "my_entity_doc = nlp(my_text)\n",
    "\n",
    "# now visualize your text...\n",
    "displacy.render(__CHANGE_ME__, style='ent', jupyter=True)"
   ]
  },
  {
   "cell_type": "markdown",
   "metadata": {},
   "source": [
    "# Spacy also provides models allow generating a tree which represents the syntax of the sentence so that you can see phrases, which word is the \"root\" of a phrase, etc.  Let's first look at this in a simple way by printing out the syntax information"
   ]
  },
  {
   "cell_type": "code",
   "execution_count": null,
   "metadata": {},
   "outputs": [],
   "source": [
    "syntax_text = 'The tired patient is currently resting quietly in their bed.'\n",
    "\n",
    "syntax_doc = nlp(syntax_text)"
   ]
  },
  {
   "cell_type": "code",
   "execution_count": null,
   "metadata": {},
   "outputs": [],
   "source": [
    "# first let's get all of our noun \"chunks\" in the text\n",
    "\n",
    "print('Text Root Relation Head')\n",
    "for noun_chunk in syntax_doc.noun_chunks:\n",
    "    print('{0} {1} {2} {3}'.format(noun_chunk.text, noun_chunk.root.text, noun_chunk.root.dep_, noun_chunk.root.head.text))"
   ]
  },
  {
   "cell_type": "markdown",
   "metadata": {},
   "source": [
    "# This is difficult to see, so let's try again using the displacy method of inspecting syntax trees"
   ]
  },
  {
   "cell_type": "code",
   "execution_count": null,
   "metadata": {},
   "outputs": [],
   "source": [
    "displacy.render(syntax_doc, style='dep', jupyter=True)"
   ]
  },
  {
   "cell_type": "markdown",
   "metadata": {},
   "source": [
    "# There is also a smaller, more compact version of visualizing parse trees in spacy.  This is achieved by setting the argument 'compact' to True in options we pass in"
   ]
  },
  {
   "cell_type": "code",
   "execution_count": null,
   "metadata": {},
   "outputs": [],
   "source": [
    "options = {\"compact\": CHANGE_ME, \n",
    "           \"bg\": \"#09a3d5\",\n",
    "           \"color\": \"white\", \n",
    "           \"font\": \"Source Sans Pro\"}\n",
    "\n",
    "displacy.render(syntax_doc, style='dep', jupyter=True, options = options)"
   ]
  },
  {
   "cell_type": "markdown",
   "metadata": {},
   "source": [
    "# Try this out on your own now.  Create your own sentences and see what kinds of trees are generated from the text you process"
   ]
  },
  {
   "cell_type": "code",
   "execution_count": null,
   "metadata": {},
   "outputs": [],
   "source": [
    "#my_syntax_text = 'CHANGE ME!'\n",
    "my_syntax_text = 'The quick brown fox jumped over the lazy dog.'\n",
    "\n",
    "my_options = {\"compact\": False, \n",
    "           \"bg\": \"#09a3d5\",\n",
    "           \"color\": \"white\", \n",
    "           \"font\": \"Source Sans Pro\"}\n",
    "\n",
    "my_entity_doc = nlp(my_syntax_text)\n",
    "\n",
    "# now visualize your text...\n",
    "displacy.render(my_entity_doc, style='dep', jupyter=True, options = my_options)"
   ]
  },
  {
   "cell_type": "code",
   "execution_count": null,
   "metadata": {},
   "outputs": [],
   "source": []
  }
 ],
 "metadata": {
  "kernelspec": {
   "display_name": "Python [conda env:root] *",
   "language": "python",
   "name": "conda-root-py"
  },
  "language_info": {
   "codemirror_mode": {
    "name": "ipython",
    "version": 3
   },
   "file_extension": ".py",
   "mimetype": "text/x-python",
   "name": "python",
   "nbconvert_exporter": "python",
   "pygments_lexer": "ipython3",
   "version": "3.7.3"
  }
 },
 "nbformat": 4,
 "nbformat_minor": 2
}
