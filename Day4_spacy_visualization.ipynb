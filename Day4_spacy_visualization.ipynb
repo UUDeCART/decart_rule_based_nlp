{
 "cells": [
  {
   "cell_type": "markdown",
   "metadata": {},
   "source": [
    "# The purpose of this notebook is to demonstrate the value of visualization methods that exist in spacy for understanding data and debugging."
   ]
  },
  {
   "cell_type": "code",
   "execution_count": 1,
   "metadata": {},
   "outputs": [],
   "source": [
    "import spacy\n",
    "from spacy import displacy"
   ]
  },
  {
   "cell_type": "code",
   "execution_count": 2,
   "metadata": {},
   "outputs": [],
   "source": [
    "nlp = spacy.load(\"en_core_web_sm\")"
   ]
  },
  {
   "cell_type": "code",
   "execution_count": 3,
   "metadata": {},
   "outputs": [
    {
     "name": "stdout",
     "output_type": "stream",
     "text": [
      "('tagger', <spacy.pipeline.pipes.Tagger object at 0x7f186423bf28>)\n",
      "('parser', <spacy.pipeline.pipes.DependencyParser object at 0x7f1841093648>)\n",
      "('ner', <spacy.pipeline.pipes.EntityRecognizer object at 0x7f18410936a8>)\n"
     ]
    }
   ],
   "source": [
    "for pipe in nlp.pipeline:\n",
    "    print(pipe)"
   ]
  },
  {
   "cell_type": "code",
   "execution_count": 4,
   "metadata": {},
   "outputs": [],
   "source": [
    "entity_doc = nlp('The days of sub-thousand dollar MacBooks are over. The cost of entry to be a MacBook owner is now $1,099.')"
   ]
  },
  {
   "cell_type": "markdown",
   "metadata": {},
   "source": [
    "# There are some simple ways that we can inspect the results of spacy processing.  This includes looking at Named Entity Recognition results"
   ]
  },
  {
   "cell_type": "code",
   "execution_count": 5,
   "metadata": {},
   "outputs": [
    {
     "name": "stdout",
     "output_type": "stream",
     "text": [
      "Text Start End Label\n",
      "The days 0 8 DATE\n",
      "MacBooks 32 40 ORG\n",
      "MacBook 77 84 ORG\n",
      "1,099 99 104 MONEY\n"
     ]
    }
   ],
   "source": [
    "print('Text Start End Label')\n",
    "for ent in entity_doc.ents:\n",
    "    print('{0} {1} {2} {3}'.format(ent.text, ent.start_char, ent.end_char, ent.label_))"
   ]
  },
  {
   "cell_type": "markdown",
   "metadata": {},
   "source": [
    "# While this is useful, it's not the easiest way to visualize data.  It would be better if we could see these entities and values \"in line\" in the text as an overlay over it.  \n",
    "## spacy developers have created a package called 'displaCy' to display some spacy data.  \n",
    "## Let's look at named entities again and see the visualization"
   ]
  },
  {
   "cell_type": "code",
   "execution_count": 6,
   "metadata": {},
   "outputs": [
    {
     "data": {
      "text/html": [
       "<div class=\"entities\" style=\"line-height: 2.5; direction: ltr\">\n",
       "<mark class=\"entity\" style=\"background: #bfe1d9; padding: 0.45em 0.6em; margin: 0 0.25em; line-height: 1; border-radius: 0.35em; box-decoration-break: clone; -webkit-box-decoration-break: clone\">\n",
       "    The days\n",
       "    <span style=\"font-size: 0.8em; font-weight: bold; line-height: 1; border-radius: 0.35em; text-transform: uppercase; vertical-align: middle; margin-left: 0.5rem\">DATE</span>\n",
       "</mark>\n",
       " of sub-thousand dollar \n",
       "<mark class=\"entity\" style=\"background: #7aecec; padding: 0.45em 0.6em; margin: 0 0.25em; line-height: 1; border-radius: 0.35em; box-decoration-break: clone; -webkit-box-decoration-break: clone\">\n",
       "    MacBooks\n",
       "    <span style=\"font-size: 0.8em; font-weight: bold; line-height: 1; border-radius: 0.35em; text-transform: uppercase; vertical-align: middle; margin-left: 0.5rem\">ORG</span>\n",
       "</mark>\n",
       " are over. The cost of entry to be a \n",
       "<mark class=\"entity\" style=\"background: #7aecec; padding: 0.45em 0.6em; margin: 0 0.25em; line-height: 1; border-radius: 0.35em; box-decoration-break: clone; -webkit-box-decoration-break: clone\">\n",
       "    MacBook\n",
       "    <span style=\"font-size: 0.8em; font-weight: bold; line-height: 1; border-radius: 0.35em; text-transform: uppercase; vertical-align: middle; margin-left: 0.5rem\">ORG</span>\n",
       "</mark>\n",
       " owner is now $\n",
       "<mark class=\"entity\" style=\"background: #e4e7d2; padding: 0.45em 0.6em; margin: 0 0.25em; line-height: 1; border-radius: 0.35em; box-decoration-break: clone; -webkit-box-decoration-break: clone\">\n",
       "    1,099\n",
       "    <span style=\"font-size: 0.8em; font-weight: bold; line-height: 1; border-radius: 0.35em; text-transform: uppercase; vertical-align: middle; margin-left: 0.5rem\">MONEY</span>\n",
       "</mark>\n",
       ".</div>"
      ],
      "text/plain": [
       "<IPython.core.display.HTML object>"
      ]
     },
     "metadata": {},
     "output_type": "display_data"
    }
   ],
   "source": [
    "displacy.render(entity_doc, style='ent', jupyter=True)"
   ]
  },
  {
   "cell_type": "markdown",
   "metadata": {},
   "source": [
    "# Now try this on your own.  Enter some sentences down below and see which entities the default spacy model identifies.  You will also need to update the render() call to your document to test this..."
   ]
  },
  {
   "cell_type": "code",
   "execution_count": 7,
   "metadata": {},
   "outputs": [
    {
     "ename": "NameError",
     "evalue": "name '__CHANGE_ME__' is not defined",
     "output_type": "error",
     "traceback": [
      "\u001b[0;31m---------------------------------------------------------------------------\u001b[0m",
      "\u001b[0;31mNameError\u001b[0m                                 Traceback (most recent call last)",
      "\u001b[0;32m<ipython-input-7-9a0eb797b129>\u001b[0m in \u001b[0;36m<module>\u001b[0;34m\u001b[0m\n\u001b[1;32m      4\u001b[0m \u001b[0;34m\u001b[0m\u001b[0m\n\u001b[1;32m      5\u001b[0m \u001b[0;31m# now visualize your text...\u001b[0m\u001b[0;34m\u001b[0m\u001b[0;34m\u001b[0m\u001b[0;34m\u001b[0m\u001b[0m\n\u001b[0;32m----> 6\u001b[0;31m \u001b[0mdisplacy\u001b[0m\u001b[0;34m.\u001b[0m\u001b[0mrender\u001b[0m\u001b[0;34m(\u001b[0m\u001b[0m__CHANGE_ME__\u001b[0m\u001b[0;34m,\u001b[0m \u001b[0mstyle\u001b[0m\u001b[0;34m=\u001b[0m\u001b[0;34m'ent'\u001b[0m\u001b[0;34m,\u001b[0m \u001b[0mjupyter\u001b[0m\u001b[0;34m=\u001b[0m\u001b[0;32mTrue\u001b[0m\u001b[0;34m)\u001b[0m\u001b[0;34m\u001b[0m\u001b[0;34m\u001b[0m\u001b[0m\n\u001b[0m",
      "\u001b[0;31mNameError\u001b[0m: name '__CHANGE_ME__' is not defined"
     ]
    }
   ],
   "source": [
    "my_text = 'CHANGE ME!!!!'\n",
    "\n",
    "my_entity_doc = nlp(my_text)\n",
    "\n",
    "# now visualize your text...\n",
    "displacy.render(__CHANGE_ME__, style='ent', jupyter=True)"
   ]
  },
  {
   "cell_type": "markdown",
   "metadata": {},
   "source": [
    "# Spacy also provides models allow generating a tree which represents the syntax of the sentence so that you can see phrases, which word is the \"root\" of a phrase, etc.  Let's first look at this in a simple way by printing out the syntax information"
   ]
  },
  {
   "cell_type": "code",
   "execution_count": null,
   "metadata": {},
   "outputs": [],
   "source": [
    "syntax_text = 'The tired patient is currently resting quietly in their bed.'\n",
    "\n",
    "syntax_doc = nlp(syntax_text)"
   ]
  },
  {
   "cell_type": "code",
   "execution_count": null,
   "metadata": {},
   "outputs": [],
   "source": [
    "# first let's get all of our noun \"chunks\" in the text\n",
    "\n",
    "print('Text Root Relation Head')\n",
    "for noun_chunk in syntax_doc.noun_chunks:\n",
    "    print('{0} {1} {2} {3}'.format(noun_chunk.text, noun_chunk.root.text, noun_chunk.root.dep_, noun_chunk.root.head.text))"
   ]
  },
  {
   "cell_type": "markdown",
   "metadata": {},
   "source": [
    "# This is difficult to see, so let's try again using the displacy method of inspecting syntax trees"
   ]
  },
  {
   "cell_type": "code",
   "execution_count": null,
   "metadata": {},
   "outputs": [],
   "source": [
    "displacy.render(syntax_doc, style='dep', jupyter=True)"
   ]
  },
  {
   "cell_type": "markdown",
   "metadata": {},
   "source": [
    "# There is also a smaller, more compact version of visualizing parse trees in spacy.  This is achieved by setting the argument 'compact' to True in options we pass in"
   ]
  },
  {
   "cell_type": "code",
   "execution_count": null,
   "metadata": {},
   "outputs": [],
   "source": [
    "options = {\"compact\": CHANGE_ME, \n",
    "           \"bg\": \"#09a3d5\",\n",
    "           \"color\": \"white\", \n",
    "           \"font\": \"Source Sans Pro\"}\n",
    "\n",
    "displacy.render(syntax_doc, style='dep', jupyter=True, options = options)"
   ]
  },
  {
   "cell_type": "markdown",
   "metadata": {},
   "source": [
    "# Try this out on your own now.  Create your own sentences and see what kinds of trees are generated from the text you process"
   ]
  },
  {
   "cell_type": "code",
   "execution_count": null,
   "metadata": {},
   "outputs": [],
   "source": [
    "#my_syntax_text = 'CHANGE ME!'\n",
    "my_syntax_text = 'The quick brown fox jumped over the lazy dog.'\n",
    "\n",
    "my_options = {\"compact\": False, \n",
    "           \"bg\": \"#09a3d5\",\n",
    "           \"color\": \"white\", \n",
    "           \"font\": \"Source Sans Pro\"}\n",
    "\n",
    "my_entity_doc = nlp(my_syntax_text)\n",
    "\n",
    "# now visualize your text...\n",
    "displacy.render(my_entity_doc, style='dep', jupyter=True, options = my_options)"
   ]
  },
  {
   "cell_type": "code",
   "execution_count": null,
   "metadata": {},
   "outputs": [],
   "source": []
  }
 ],
 "metadata": {
  "kernelspec": {
   "display_name": "Python [conda env:root] *",
   "language": "python",
   "name": "conda-root-py"
  },
  "language_info": {
   "codemirror_mode": {
    "name": "ipython",
    "version": 3
   },
   "file_extension": ".py",
   "mimetype": "text/x-python",
   "name": "python",
   "nbconvert_exporter": "python",
   "pygments_lexer": "ipython3",
   "version": "3.7.3"
  }
 },
 "nbformat": 4,
 "nbformat_minor": 2
}
