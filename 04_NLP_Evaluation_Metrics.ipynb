{
 "cells": [
  {
   "cell_type": "markdown",
   "metadata": {},
   "source": [
    "# Objectives:\n",
    "* Understand standard metrics to use in classification\n",
    "* Define Precision, Recall, F1 measure the the relationship between them\n",
    "* Define terms like Training Set and Holdout set"
   ]
  },
  {
   "cell_type": "code",
   "execution_count": 1,
   "metadata": {},
   "outputs": [],
   "source": [
    "from IPython.display import HTML"
   ]
  },
  {
   "cell_type": "markdown",
   "metadata": {},
   "source": [
    "# Before we continue in this notebook, let's all pause and complete this short quiz so that we can review the responses together once everyone is complete:\n",
    "https://docs.google.com/forms/d/1rD7J9d-d-ELzczakx_6YmHY9BkNnPN63C9vyw_d98Uk/viewform?edit_requested=true"
   ]
  },
  {
   "cell_type": "markdown",
   "metadata": {},
   "source": [
    "## NOTE : The quiz above is based upon watching the video below which you've hopefully already seen.  If you missed it, I recommend watching it later:"
   ]
  },
  {
   "cell_type": "code",
   "execution_count": 2,
   "metadata": {},
   "outputs": [
    {
     "data": {
      "text/html": [
       "<div style=\"position:relative;height:0;padding-bottom:56.25%\"><iframe width=\"500\" height=\"280\" src=\"https://www.youtube.com/embed/VPZiJGNX4_s\" frameborder=\"0\" allowfullscreen></iframe></div>"
      ],
      "text/plain": [
       "<IPython.core.display.HTML object>"
      ]
     },
     "execution_count": 2,
     "metadata": {},
     "output_type": "execute_result"
    }
   ],
   "source": [
    "HTML('<div style=\"position:relative;height:0;padding-bottom:56.25%\"><iframe width=\"500\" height=\"280\" src=\"https://www.youtube.com/embed/VPZiJGNX4_s\" '\\\n",
    "     'frameborder=\"0\" allowfullscreen></iframe></div>')"
   ]
  },
  {
   "cell_type": "markdown",
   "metadata": {},
   "source": [
    "## We need to do is to define True Positives, False Positives, False Negatives, etc.  This is essential for defining the metrics we will use.  This example relates to disease but these concepts are used for all classification analytics including:\n",
    "* Disease prediction\n",
    "* Spam filtering\n",
    "* Fraud detection\n",
    "* Image recognition\n",
    "* etc...\n",
    "\n",
    "### (OPTIONAL) If you want a better explanation in medical informatics terms, I recommend this video from USMLE Biostatistics illustrates these concepts in terms of disease and medical informatics:"
   ]
  },
  {
   "cell_type": "code",
   "execution_count": 5,
   "metadata": {},
   "outputs": [
    {
     "data": {
      "text/html": [
       "<div style=\"position:relative;height:0;padding-bottom:56.25%\"><iframe src=\"https://www.youtube.com/embed/VAogHvCqf3E?ecver=2\"width=\"500\" height=\"280\" frameborder=\"0\" style=\"position:absolute;width:100%;height:100%;left:0\" allowfullscreen></iframe></div>"
      ],
      "text/plain": [
       "<IPython.core.display.HTML object>"
      ]
     },
     "execution_count": 5,
     "metadata": {},
     "output_type": "execute_result"
    }
   ],
   "source": [
    "HTML('<div style=\"position:relative;height:0;padding-bottom:56.25%\"><iframe src=\"https://www.youtube.com/embed/VAogHvCqf3E?ecver=2\"'\\\n",
    "     'width=\"500\" height=\"280\" frameborder=\"0\" style=\"position:absolute;width:100%;height:100%;left:0\" allowfullscreen></iframe></div>')"
   ]
  },
  {
   "cell_type": "markdown",
   "metadata": {},
   "source": [
    "## Now that we have a solid definition of True Positives, False Positives, and this 2x2 grid we can establish the metrics of Precision, Recall and F1 measure.\n",
    "\n",
    "### (OPTIONAL) If you would like a different view on the subject from NLP, I recommend this video below.  Christopher Manning is an outstanding researcher and professor in Natural Language Processing.  In this video, he explains how we translate our counts of TP, FP, TN, FN into these values we can use to optimize our solutions:"
   ]
  },
  {
   "cell_type": "code",
   "execution_count": 9,
   "metadata": {},
   "outputs": [
    {
     "data": {
      "text/html": [
       "<div style=\"position:relative;height:0;padding-bottom:56.25%\"><iframe src=\"https://d19vezwu8eufl6.cloudfront.net/nlp/recoded_videos%2Fnlp-142.mp4 \" width=\"500\" height=\"280\" frameborder=\"0\" style=\"position:absolute;width:100%;height:100%;left:0\" allowfullscreen></iframe></div>"
      ],
      "text/plain": [
       "<IPython.core.display.HTML object>"
      ]
     },
     "execution_count": 9,
     "metadata": {},
     "output_type": "execute_result"
    }
   ],
   "source": [
    "# NOTE : Try to show this video : https://www.youtube.com/watch?v=VAogHvCqf3E\n",
    "HTML('<div style=\"position:relative;height:0;padding-bottom:56.25%\"><iframe src=\"https://d19vezwu8eufl6.cloudfront.net/nlp/recoded_videos%2Fnlp-142.mp4 \" '\\\n",
    "     'width=\"500\" height=\"280\" frameborder=\"0\" style=\"position:absolute;width:100%;height:100%;left:0\" allowfullscreen></iframe></div>')"
   ]
  },
  {
   "cell_type": "markdown",
   "metadata": {},
   "source": [
    "# Objectives of our Group Project:\n",
    "## In this course on rule-based NLP methods for identifying cases of pneumonia, we will be working in groups to develop rules to improve classification of pneumonia based on radiology text report from chest x-rays.\n",
    "\n",
    "## The way that we will optimize performance is by F1 measure.  This means that Precision and Recall will both be important as F1 is the harmonic mean between them."
   ]
  },
  {
   "cell_type": "code",
   "execution_count": 12,
   "metadata": {},
   "outputs": [
    {
     "data": {
      "text/html": [
       "<div><p>Source : Wikipedia</p><p><img src=https://wikimedia.org/api/rest_v1/media/math/render/svg/7d63c1f5c659f95b5dfe5893213cc8ea7f8bea0a></p>"
      ],
      "text/plain": [
       "<IPython.core.display.HTML object>"
      ]
     },
     "execution_count": 12,
     "metadata": {},
     "output_type": "execute_result"
    }
   ],
   "source": [
    "HTML('<div><p>Source : Wikipedia</p><p><img src=https://wikimedia.org/api/rest_v1/media/math/render/svg/7d63c1f5c659f95b5dfe5893213cc8ea7f8bea0a></p>')"
   ]
  },
  {
   "cell_type": "markdown",
   "metadata": {},
   "source": [
    "## One of of the most significant challenges in developing rule-based NLP systems is ensuring that our solution will generalize.  \n",
    "### By this, we mean that that we want our system to perform well not only in our initial dataset but that it can perform well on any data it may encounter in the future.  We do this by breaking the data up into sets."
   ]
  },
  {
   "cell_type": "markdown",
   "metadata": {},
   "source": [
    "# Generally speaking in NLP (and also in Machine Learning) there are typically 2 main datasets that labeled data may be broken into : \n",
    "\n",
    "1. **Training Set** : Labeled data used to **\"train\"** or **develop rules**.  The goal is that this process will extend to good performance on other sets.  Evaluation metrics are used on this dataset, but they must be considered carefully since this is only a subset or all possible instances or documents\n",
    "2. **Testing Set (Holdout Set)** : This is data that is typically **not observed or used during training time**.  Thus, the name **\"hold out\"** since this data is typically held to the side so that it cannot be used to improve rules.  This set is typically not used until all training/development is complete.  Evaluation metrics on this set usually indiciate how well a particular dataset may be able to generalize"
   ]
  },
  {
   "cell_type": "markdown",
   "metadata": {},
   "source": [
    "## Note that you may encounter the term Validation Set in analytics tasks as well.  This is common in Machine Learning tasks.  \n",
    "## For this course, our Training Set will also serve as our Validation Set.  In other words, we will that \"slice\" of the entire set for both development and evaluation."
   ]
  },
  {
   "cell_type": "markdown",
   "metadata": {},
   "source": [
    "## In this course, we have a total set of 100 chest x-ray reports which an expert pulmonologist has annotated for us to use.   Here is a picture of Dr. Barbara Jones.  Please thank her if you meet her:"
   ]
  },
  {
   "cell_type": "code",
   "execution_count": 13,
   "metadata": {},
   "outputs": [
    {
     "data": {
      "text/html": [
       "<div><p><a href=https://healthcare.utah.edu/fad/mddetail.php?physicianID=u0102859>Dr. Barbara Jones</a></p><p><img src=https://securembm.uuhsc.utah.edu/zeus/public/mbm-media/faculty-profile?facultyPK=u0102859></p>"
      ],
      "text/plain": [
       "<IPython.core.display.HTML object>"
      ]
     },
     "execution_count": 13,
     "metadata": {},
     "output_type": "execute_result"
    }
   ],
   "source": [
    "HTML('<div><p><a href=https://healthcare.utah.edu/fad/mddetail.php?physicianID=u0102859>Dr. Barbara Jones</a></p>'\\\n",
    "     '<p><img src=https://securembm.uuhsc.utah.edu/zeus/public/mbm-media/faculty-profile?facultyPK=u0102859></p>')"
   ]
  },
  {
   "cell_type": "markdown",
   "metadata": {},
   "source": [
    "# Plan for Group Projects\n",
    "\n",
    "## In this course, we will work with a Training Set for the first 2 days.  This data can be used for development of rules.  On the third and final day of the course, the Test (Holdout) set will be made available and we will determine how each team performed on this task."
   ]
  },
  {
   "cell_type": "markdown",
   "metadata": {},
   "source": [
    "## (OPTIONAL) Before we conclude, it's useful to illustrate examples in the literature where different terms may be used to define the same mathematical concept.\n",
    "\n",
    "### This chart from Wikipedia outlines how these metrics all relate.  While we will be focusing on Precision, Recall and F1, it's useful to see how these interact since often clinicians may use other terms like Sensitivity and Specifity.  Some of such terms actually mean the same thing as Precision and Recall.  Specifically, Sensitivity is the same as Recall.  Precision is often called Positive Predictive Value (PPV):"
   ]
  },
  {
   "cell_type": "code",
   "execution_count": 14,
   "metadata": {},
   "outputs": [
    {
     "data": {
      "text/html": [
       "<div><p>Source : Wikipedia</p><p><img src=images/classification_metrics.jpg></p>"
      ],
      "text/plain": [
       "<IPython.core.display.HTML object>"
      ]
     },
     "execution_count": 14,
     "metadata": {},
     "output_type": "execute_result"
    }
   ],
   "source": [
    "HTML('<div><p>Source : Wikipedia</p><p><img src=images/classification_metrics.jpg></p>')"
   ]
  },
  {
   "cell_type": "markdown",
   "metadata": {},
   "source": [
    "<br/><br/>This material presented as part of the DeCART Data Science for the Health Science Summer Program at the University of Utah in 2019.<br/>\n",
    "Presenters : Dr. Wendy Chapman, Kelly Peterson, Alec Chapman, Jianlin Shi <br> Acknowledgement: Many thanks to Olga Patterson because part of the materials are adopted from his previous work."
   ]
  },
  {
   "cell_type": "code",
   "execution_count": null,
   "metadata": {},
   "outputs": [],
   "source": []
  }
 ],
 "metadata": {
  "kernelspec": {
   "display_name": "Python 3",
   "language": "python",
   "name": "python3"
  },
  "language_info": {
   "codemirror_mode": {
    "name": "ipython",
    "version": 3
   },
   "file_extension": ".py",
   "mimetype": "text/x-python",
   "name": "python",
   "nbconvert_exporter": "python",
   "pygments_lexer": "ipython3",
   "version": "3.7.3"
  },
  "toc": {
   "base_numbering": 1,
   "nav_menu": {},
   "number_sections": true,
   "sideBar": true,
   "skip_h1_title": false,
   "title_cell": "Table of Contents",
   "title_sidebar": "Contents",
   "toc_cell": false,
   "toc_position": {},
   "toc_section_display": true,
   "toc_window_display": false
  }
 },
 "nbformat": 4,
 "nbformat_minor": 1
}
